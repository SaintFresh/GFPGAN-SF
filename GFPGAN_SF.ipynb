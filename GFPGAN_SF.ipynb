{
  "cells": [
    {
      "cell_type": "markdown",
      "metadata": {
        "id": "view-in-github",
        "colab_type": "text"
      },
      "source": [
        "<a href=\"https://colab.research.google.com/github/SaintFresh/GFPGAN-SF/blob/main/GFPGAN_SF.ipynb\" target=\"_parent\"><img src=\"https://colab.research.google.com/assets/colab-badge.svg\" alt=\"Open In Colab\"/></a>"
      ]
    },
    {
      "cell_type": "markdown",
      "source": [
        "# GFPGAN"
      ],
      "metadata": {
        "id": "0qbS4tLPNAfk"
      }
    },
    {
      "cell_type": "markdown",
      "metadata": {
        "id": "kd9JjnzFQKvH"
      },
      "source": [
        "## CLONE & SETUP"
      ]
    },
    {
      "cell_type": "code",
      "metadata": {
        "id": "ZwH2ifWEYEfJ"
      },
      "source": [
        "# Clone GFPGAN and enter the GFPGAN folder\n",
        "%cd /content/drive/MyDrive\n",
        "!rm -rf GFPGAN\n",
        "!git clone https://github.com/TencentARC/GFPGAN.git\n",
        "%cd GFPGAN\n",
        "\n",
        "# Set up the environment\n",
        "# Install basicsr - https://github.com/xinntao/BasicSR\n",
        "# We use BasicSR for both training and inference\n",
        "!pip install basicsr\n",
        "\n",
        "# Install facexlib - https://github.com/xinntao/facexlib\n",
        "# We use face detection and face restoration helper in the facexlib package\n",
        "!pip install facexlib\n",
        "\n",
        "# Install other depencencies\n",
        "!pip install -r requirements.txt\n",
        "!python setup.py develop\n",
        "\n",
        "# If you want to enhance the background (non-face) regions with Real-ESRGAN,\n",
        "# you also need to install the realesrgan package\n",
        "!pip install realesrgan  # used for enhancing the background (non-face) regions\n",
        "\n",
        "# Download the pre-trained model\n",
        "# !wget https://github.com/TencentARC/GFPGAN/releases/download/v0.2.0/GFPGANCleanv1-NoCE-C2.pth -P experiments/pretrained_models\n",
        "# Now we use the V1.3 model for the demo\n",
        "!wget https://github.com/TencentARC/GFPGAN/releases/download/v1.3.0/GFPGANv1.3.pth -P experiments/pretrained_models"
      ],
      "execution_count": null,
      "outputs": []
    },
    {
      "cell_type": "markdown",
      "metadata": {
        "id": "rqtMA5AIQBkJ"
      },
      "source": [
        "## UPLOAD"
      ]
    },
    {
      "cell_type": "code",
      "execution_count": null,
      "metadata": {
        "id": "WgHO2CrzPqz8"
      },
      "outputs": [],
      "source": [
        "# upload your own images\n",
        "import os\n",
        "from google.colab import files\n",
        "import shutil\n",
        "\n",
        "upload_folder = 'inputs/upload'\n",
        "\n",
        "if os.path.isdir(upload_folder):\n",
        "    shutil.rmtree(upload_folder)\n",
        "os.mkdir(upload_folder)\n",
        "\n",
        "# upload images\n",
        "uploaded = files.upload()\n",
        "for filename in uploaded.keys():\n",
        "  dst_path = os.path.join(upload_folder, filename)\n",
        "  print(f'move {filename} to {dst_path}')\n",
        "  shutil.move(filename, dst_path)"
      ]
    },
    {
      "cell_type": "markdown",
      "metadata": {
        "id": "sQo-Qmk3P46k"
      },
      "source": [
        "## INFERENCE\n"
      ]
    },
    {
      "cell_type": "markdown",
      "source": [
        "### FIX TORCHVISION ERROR"
      ],
      "metadata": {
        "id": "hS8RdtP-_Asu"
      }
    },
    {
      "cell_type": "code",
      "source": [
        "import os\n",
        "from shutil import copyfile\n",
        "\n",
        "file_path = '/usr/local/lib/python3.10/dist-packages/basicsr/data/degradations.py'\n",
        "\n",
        "try:\n",
        "    # Create a backup of the original file\n",
        "    backup_path = file_path + '.bak'\n",
        "    copyfile(file_path, backup_path)\n",
        "    print(f\"Backup created: {backup_path}\")\n",
        "\n",
        "    # Check if the file exists\n",
        "    if os.path.isfile(file_path):\n",
        "        # Open the file in read-write mode and replace the import\n",
        "        with open(file_path, 'r+') as file:\n",
        "            content = file.read()\n",
        "            new_content = content.replace(\n",
        "                'from torchvision.transforms.functional_tensor import rgb_to_grayscale',\n",
        "                'from torchvision.transforms.functional import rgb_to_grayscale'\n",
        "            )\n",
        "\n",
        "            # Reset file pointer to the beginning and write the modified content\n",
        "            file.seek(0)\n",
        "            file.write(new_content)\n",
        "            file.truncate()  # Remove any remaining content\n",
        "            print(\"File revised successfully!\")\n",
        "    else:\n",
        "        raise FileNotFoundError(f\"File not found: {file_path}\")  # Raise a specific error\n",
        "\n",
        "except FileNotFoundError as e:\n",
        "    print(f\"Error: {e}\")  # Print the error message for FileNotFoundError\n",
        "except PermissionError as e:\n",
        "    print(f\"Error: {e}. You may need to run this with sudo permissions.\")\n",
        "    # Suggest running with elevated permissions for PermissionError\n",
        "except Exception as e:\n",
        "    print(f\"An unexpected error occurred: {e}\")  # Generic error handling for other exceptions\n",
        "\n",
        "finally:\n",
        "    # Change directory regardless of success or error\n",
        "    %cd /content/drive/MyDrive/GFPGAN"
      ],
      "metadata": {
        "id": "WbQZwPibllxD"
      },
      "execution_count": null,
      "outputs": []
    },
    {
      "cell_type": "markdown",
      "source": [
        "### RUN INFERENCE"
      ],
      "metadata": {
        "id": "CWBmx6Mn_RAh"
      }
    },
    {
      "cell_type": "code",
      "execution_count": null,
      "metadata": {
        "id": "l5FxGMwSP395"
      },
      "outputs": [],
      "source": [
        "# Now we use the GFPGAN to restore the above low-quality images\n",
        "# We use [Real-ESRGAN](https://github.com/xinntao/Real-ESRGAN) for enhancing the background (non-face) regions\n",
        "# You can find the different models in https://github.com/TencentARC/GFPGAN#european_castle-model-zoo\n",
        "\n",
        "!rm -rf results\n",
        "\n",
        "!python inference_gfpgan.py -i inputs/upload -o results -v 1.4 -s 2 --bg_upsampler realesrgan --ext png\n",
        "\n",
        "\n",
        "# !python inference_gfpgan.py -i inputs/upload -o results -v RestoreFormer -s 2 --bg_upsampler realesrgan --bg_tile 400\n",
        "# !python inference_gfpgan.py -i results/restored_imgs -o results -v 1.4 -s 4 --bg_upsampler realesrgan --bg_tile 200\n",
        "# !python inference_gfpgan.py -i inputs/upload -o results -v 1.4 -s 4 --bg_upsampler realesrgan --bg_tile 200\n",
        "\n",
        "# Usage: python inference_gfpgan.py -i inputs/whole_imgs -o results -v 1.3 -s 2 [options]...\n",
        "#\n",
        "#  -h                   show this help\n",
        "#  -i input             Input image or folder. Default: inputs/whole_imgs\n",
        "#  -o output            Output folder. Default: results\n",
        "#  -v version           GFPGAN model version. Option: 1 | 1.2 | 1.3 | 1.4 | RestoreFormer. Default: 1.3\n",
        "#  -s upscale           The final upsampling scale of the image. Default: 2\n",
        "#  -bg_upsampler        background upsampler. Default: realesrgan\n",
        "#  -bg_tile             Tile size for background sampler, 0 for no tile during testing. Default: 400\n",
        "#  -suffix              Suffix of the restored faces\n",
        "#  -only_center_face    Only restore the center face\n",
        "#  -aligned             Input are aligned faces\n",
        "#  -ext                 Image extension. Options: auto | jpg | png, auto means using the same extension as inputs. Default: auto\n",
        "\n",
        "!ls results"
      ]
    },
    {
      "cell_type": "markdown",
      "metadata": {
        "id": "FzD2OLByb5A_"
      },
      "source": [
        "## DOWNLOAD"
      ]
    },
    {
      "cell_type": "code",
      "execution_count": null,
      "metadata": {
        "id": "wjxwFwiED0KS"
      },
      "outputs": [],
      "source": [
        "# prompt: zip all the files in all_res = 'results/restored_imgs', then download that .zip\n",
        "from google.colab import files\n",
        "\n",
        "all_res = 'results/restored_imgs'\n",
        "!zip -r download.zip $all_res\n",
        "files.download(\"download.zip\")"
      ]
    },
    {
      "cell_type": "markdown",
      "source": [
        "# ESRGAN"
      ],
      "metadata": {
        "id": "oZ0tCuiPNJnY"
      }
    },
    {
      "cell_type": "markdown",
      "source": [
        "## CLONE"
      ],
      "metadata": {
        "id": "xHnu7LmsN2eA"
      }
    },
    {
      "cell_type": "code",
      "source": [
        "#SETUP\n",
        "\n",
        "#Clone repository and navigate to directory\n",
        "%cd /content/drive/MyDrive/Real-ESRGAN\n",
        "!rm -rf Real-ESRGAN\n",
        "!git clone https://github.com/xinntao/Real-ESRGAN.git\n",
        "%cd Real-ESRGAN/"
      ],
      "metadata": {
        "id": "Z8VC-qfYNUVb"
      },
      "execution_count": null,
      "outputs": []
    },
    {
      "cell_type": "markdown",
      "source": [
        "## SETUP"
      ],
      "metadata": {
        "id": "6FU5h8bgN1-w"
      }
    },
    {
      "cell_type": "code",
      "source": [
        "#Install dependencies\n",
        "!pip install basicsr\n",
        "!pip install facexlib\n",
        "!pip install gfpgan\n",
        "!pip install -r requirements.txt\n",
        "\n",
        "#Setup environment\n",
        "!python setup.py develop\n",
        "\n",
        "import shutil\n",
        "\n",
        "# Source path\n",
        "source_path = '/content/inference_realesrgan.py'\n",
        "\n",
        "# Destination path\n",
        "destination_path = '/content/drive/MyDrive/Real-ESRGAN/Real-ESRGAN'\n",
        "\n",
        "shutil.move(source_path, destination_path)"
      ],
      "metadata": {
        "id": "cHtY9B9zNqH4"
      },
      "execution_count": null,
      "outputs": []
    },
    {
      "cell_type": "markdown",
      "source": [
        "## UPLOAD"
      ],
      "metadata": {
        "id": "qXZLRip3ONeN"
      }
    },
    {
      "cell_type": "code",
      "source": [
        "#UPLOAD\n",
        "\n",
        "import os\n",
        "from google.colab import files\n",
        "import shutil\n",
        "\n",
        "upload_folder = 'upload'\n",
        "result_folder = 'results'\n",
        "\n",
        "if os.path.isdir(upload_folder):\n",
        "    shutil.rmtree(upload_folder)\n",
        "if os.path.isdir(result_folder):\n",
        "    shutil.rmtree(result_folder)\n",
        "os.mkdir(upload_folder)\n",
        "os.mkdir(result_folder)\n",
        "\n",
        "# upload images\n",
        "uploaded = files.upload()\n",
        "for filename in uploaded.keys():\n",
        "  dst_path = os.path.join(upload_folder, filename)\n",
        "  print(f'move {filename} to {dst_path}')\n",
        "  shutil.move(filename, dst_path)"
      ],
      "metadata": {
        "id": "1fCIYdKnNtUW"
      },
      "execution_count": null,
      "outputs": []
    },
    {
      "cell_type": "markdown",
      "source": [
        "## INFERENCE"
      ],
      "metadata": {
        "id": "75pDwk6JOPql"
      }
    },
    {
      "cell_type": "code",
      "source": [
        "#INFERENCE\n",
        "\n",
        "#!python inference_realesrgan.py -n RealESRGAN_x4plus -i upload --outscale 6 --face_enhance --tile 200\n",
        "\n",
        "!python inference_realesrgan.py -n RealESRGAN_x4plus -i /content/drive/MyDrive/GFPGAN/inputs/upload --outscale 6 --face_enhance --tile 200\n",
        "\n",
        "#usage: inference_realesrgan.py [-h] [-i INPUT] [-n MODEL_NAME] [-o OUTPUT] [-dn DENOISE_STRENGTH]\n",
        "#                               [-s OUTSCALE] [--model_path MODEL_PATH] [--suffix SUFFIX] [-t TILE]\n",
        "#                               [--tile_pad TILE_PAD] [--pre_pad PRE_PAD] [--face_enhance] [--fp32]\n",
        "#                               [--alpha_upsampler ALPHA_UPSAMPLER] [--ext EXT] [-g GPU_ID]\n",
        "#\n",
        "#options:\n",
        "#  -h.       | --help            show this help message and exit\n",
        "#  -i INPUT  | --input INPUT\n",
        "#                        Input image or folder\n",
        "#  -n MODEL_NAME  | --model_name MODEL_NAME\n",
        "#                        Model names: RealESRGAN_x4plus | RealESRNet_x4plus |\n",
        "#                        RealESRGAN_x4plus_anime_6B | RealESRGAN_x2plus | realesr-animevideov3 |\n",
        "#                        realesr-general-x4v3\n",
        "#  -o OUTPUT, --output OUTPUT\n",
        "#                        Output folder\n",
        "#  -dn DENOISE_STRENGTH, --denoise_strength DENOISE_STRENGTH\n",
        "#                        Denoise strength. 0 for weak denoise (keep noise), 1 for strong denoise\n",
        "#                        ability. Only used for the realesr-general-x4v3 model\n",
        "#  -s OUTSCALE, --outscale OUTSCALE\n",
        "#                        The final upsampling scale of the image\n",
        "#  --model_path MODEL_PATH\n",
        "#                        [Option] Model path. Usually, you do not need to specify it\n",
        "#  --suffix SUFFIX       Suffix of the restored image\n",
        "#  -t TILE, --tile TILE  Tile size, 0 for no tile during testing\n",
        "#  --tile_pad TILE_PAD   Tile padding\n",
        "#  --pre_pad PRE_PAD     Pre padding size at each border\n",
        "#  --face_enhance        Use GFPGAN to enhance face\n",
        "#  --fp32                Use fp32 precision during inference. Default: fp16 (half precision).\n",
        "#  --alpha_upsampler ALPHA_UPSAMPLER\n",
        "#                        The upsampler for the alpha channels. Options: realesrgan | bicubic\n",
        "#  --ext EXT             Image extension. Options: auto | jpg | png, auto means using the same\n",
        "#                        extension as inputs\n",
        "#  -g GPU_ID, --gpu-id GPU_ID\n",
        "#                        gpu device to use (default=None) can be 0,1,2 for multi-gpu"
      ],
      "metadata": {
        "id": "qdysJ8O8NweH"
      },
      "execution_count": null,
      "outputs": []
    },
    {
      "cell_type": "markdown",
      "source": [
        "## DOWNLOAD"
      ],
      "metadata": {
        "id": "YsaXEjgWOSm9"
      }
    },
    {
      "cell_type": "code",
      "source": [
        "# Download the results\n",
        "zip_filename = 'Real-ESRGAN_result.zip'\n",
        "if os.path.exists(zip_filename):\n",
        "  os.remove(zip_filename)\n",
        "os.system(f\"zip -r -j {zip_filename} results/*\")\n",
        "files.download(zip_filename)\n",
        "\n",
        "results_filename = 'Real-ESRGAN_result.gz'\n",
        "if os.path.exists(results_filename):\n",
        "  os.remove(results_filename)\n",
        "os.system(f\"zip -r -j {results_filename} results/*\")\n",
        "files.download(results_filename)\n",
        "\n",
        "!ls /content/Real-ESRGAN/results/*"
      ],
      "metadata": {
        "id": "wc_0Je-KNyoy"
      },
      "execution_count": null,
      "outputs": []
    }
  ],
  "metadata": {
    "accelerator": "GPU",
    "colab": {
      "provenance": [],
      "collapsed_sections": [
        "m6Vq2wOWQGsL"
      ],
      "gpuType": "T4",
      "mount_file_id": "12zegE759djIEvepxwl-Q79w9uC2v2c5P",
      "authorship_tag": "ABX9TyNB5OAR1AXkGIDFwYKjO+U0",
      "include_colab_link": true
    },
    "kernelspec": {
      "display_name": "Python 3",
      "name": "python3"
    },
    "language_info": {
      "name": "python"
    }
  },
  "nbformat": 4,
  "nbformat_minor": 0
}